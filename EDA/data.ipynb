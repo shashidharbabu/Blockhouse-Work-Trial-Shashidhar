{
 "cells": [
  {
   "cell_type": "code",
   "execution_count": 2,
   "metadata": {},
   "outputs": [],
   "source": [
    "import pandas as pd\n",
    "\n",
    "# Load the provided datasets\n",
    "file_path_1 = \"/Users/shashidharbabu/Documents/07. Projects/Blockhouse /Blockhouse-Work-Trial/data/AAPL_Quotes_Data.csv\"\n",
    "file_path_2 = \"/Users/shashidharbabu/Documents/07. Projects/Blockhouse /Blockhouse-Work-Trial/data/merged_bid_ask_ohlcv_data (1).csv\"\n",
    "\n",
    "# Loading the datasets into pandas DataFrames\n",
    "aapl_quotes_data = pd.read_csv(file_path_1)\n",
    "merged_bid_ask_data = pd.read_csv(file_path_2)\n"
   ]
  },
  {
   "cell_type": "code",
   "execution_count": 3,
   "metadata": {},
   "outputs": [
    {
     "data": {
      "text/plain": [
       "(                   timestamp  bid_price_1  bid_price_2  bid_price_3  \\\n",
       " 0  2024-07-01 13:30:00+00:00       212.51       212.51       212.51   \n",
       " 1  2024-07-01 13:31:00+00:00       213.07       213.07       213.07   \n",
       " 2  2024-07-01 13:32:00+00:00       213.05       213.05       213.05   \n",
       " 3  2024-07-01 13:33:00+00:00       213.25       213.25       213.25   \n",
       " 4  2024-07-01 13:34:00+00:00       213.47       213.46       213.46   \n",
       " \n",
       "    bid_price_4  bid_price_5  bid_size_1  bid_size_2  bid_size_3  bid_size_4  \\\n",
       " 0       212.51       212.51       120.0       100.0       120.0       220.0   \n",
       " 1       213.07       213.07       301.0       500.0       600.0       600.0   \n",
       " 2       213.05       213.05       100.0       100.0        34.0       300.0   \n",
       " 3       213.25       213.25       100.0       100.0        52.0       110.0   \n",
       " 4       213.46       213.46        20.0        20.0        20.0        20.0   \n",
       " \n",
       "    ...  ask_price_1  ask_price_2  ask_price_3  ask_price_4  ask_price_5  \\\n",
       " 0  ...       211.93       211.93       211.93       211.93       211.93   \n",
       " 1  ...       212.35       212.35       212.36       212.36       212.36   \n",
       " 2  ...       212.62       212.62       212.64       212.64       212.64   \n",
       " 3  ...       212.55       212.55       212.58       212.58       212.58   \n",
       " 4  ...       213.12       213.12       213.12       213.12       213.12   \n",
       " \n",
       "    ask_size_1  ask_size_2  ask_size_3  ask_size_4  ask_size_5  \n",
       " 0       100.0       200.0       100.0       200.0       300.0  \n",
       " 1       200.0       100.0       105.0       205.0       205.0  \n",
       " 2        49.0        49.0       100.0       100.0       100.0  \n",
       " 3      3195.0      3195.0       251.0       151.0       100.0  \n",
       " 4         1.0         1.0         1.0         1.0         1.0  \n",
       " \n",
       " [5 rows x 21 columns],\n",
       "                    timestamp  bid_price_1  bid_price_2  bid_price_3  \\\n",
       " 0  2023-09-12 13:30:00+00:00       179.66       179.66       179.66   \n",
       " 1  2023-09-12 13:31:00+00:00       179.89       179.89       179.89   \n",
       " 2  2023-09-12 13:32:00+00:00       180.12       180.12       180.12   \n",
       " 3  2023-09-12 13:33:00+00:00       179.99       179.99       179.99   \n",
       " 4  2023-09-12 13:34:00+00:00       179.78       179.78       179.78   \n",
       " \n",
       "    bid_price_4  bid_price_5  bid_size_1  bid_size_2  bid_size_3  bid_size_4  \\\n",
       " 0       179.66       179.66     27600.0     30000.0     23100.0     23100.0   \n",
       " 1       179.89       179.89     21200.0       900.0      1200.0     20300.0   \n",
       " 2       180.12       180.11     10000.0     30000.0     20000.0     30000.0   \n",
       " 3       179.99       179.99     17400.0     19700.0      9700.0     19700.0   \n",
       " 4       179.78       179.78     10000.0     10000.0     12100.0     10600.0   \n",
       " \n",
       "    ...  publisher_id  instrument_id  open  high  low  close  volume  symbol  \\\n",
       " 0  ...           NaN            NaN   NaN   NaN  NaN    NaN     NaN     NaN   \n",
       " 1  ...           NaN            NaN   NaN   NaN  NaN    NaN     NaN     NaN   \n",
       " 2  ...           NaN            NaN   NaN   NaN  NaN    NaN     NaN     NaN   \n",
       " 3  ...           NaN            NaN   NaN   NaN  NaN    NaN     NaN     NaN   \n",
       " 4  ...           NaN            NaN   NaN   NaN  NaN    NaN     NaN     NaN   \n",
       " \n",
       "    log_return  volatility  \n",
       " 0         NaN         NaN  \n",
       " 1         NaN         NaN  \n",
       " 2         NaN         NaN  \n",
       " 3         NaN         NaN  \n",
       " 4         NaN         NaN  \n",
       " \n",
       " [5 rows x 32 columns])"
      ]
     },
     "execution_count": 3,
     "metadata": {},
     "output_type": "execute_result"
    }
   ],
   "source": [
    "\n",
    "# Display the first few rows of each dataset to understand their structure\n",
    "aapl_quotes_data_head = aapl_quotes_data.head()\n",
    "merged_bid_ask_data_head = merged_bid_ask_data.head()\n",
    "\n",
    "aapl_quotes_data_head, merged_bid_ask_data_head\n"
   ]
  },
  {
   "cell_type": "code",
   "execution_count": null,
   "metadata": {},
   "outputs": [],
   "source": []
  }
 ],
 "metadata": {
  "kernelspec": {
   "display_name": "Python 3",
   "language": "python",
   "name": "python3"
  },
  "language_info": {
   "codemirror_mode": {
    "name": "ipython",
    "version": 3
   },
   "file_extension": ".py",
   "mimetype": "text/x-python",
   "name": "python",
   "nbconvert_exporter": "python",
   "pygments_lexer": "ipython3",
   "version": "3.10.4"
  }
 },
 "nbformat": 4,
 "nbformat_minor": 2
}
